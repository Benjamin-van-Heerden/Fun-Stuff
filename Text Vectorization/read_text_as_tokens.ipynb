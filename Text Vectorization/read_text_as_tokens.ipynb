{
 "cells": [
  {
   "cell_type": "code",
   "execution_count": 21,
   "outputs": [],
   "source": [
    "import re\n",
    "from copy import copy\n",
    "import string"
   ],
   "metadata": {
    "collapsed": false,
    "pycharm": {
     "name": "#%%\n"
    }
   }
  },
  {
   "cell_type": "code",
   "execution_count": 22,
   "outputs": [],
   "source": [
    "def clean_line(line):\n",
    "    new_line = copy(line)\n",
    "    new_line = re.sub(r\"\\n\", \"\", new_line)\n",
    "    new_line = re.sub(r\"^\\d+:\\d+\\s\", \"\", new_line)\n",
    "    new_line = new_line.translate(str.maketrans('', '', string.punctuation))\n",
    "    if new_line == \"\":\n",
    "        return None\n",
    "    return new_line.lower()\n",
    "\n",
    "def make_token_list(line_list):\n",
    "    all_tokens = list(map(lambda x: x.split(), line_list))\n",
    "    return [token for line in all_tokens for token in line]"
   ],
   "metadata": {
    "collapsed": false,
    "pycharm": {
     "name": "#%%\n"
    }
   }
  },
  {
   "cell_type": "code",
   "execution_count": 23,
   "outputs": [],
   "source": [
    "# open and clean\n",
    "\n",
    "with open(\"./Files/seed_text0\", \"r\") as f:\n",
    "    lines = f.readlines()\n",
    "    book1 = []\n",
    "    book2 = []\n",
    "    seed = 0\n",
    "    for line in lines:\n",
    "        if line == \"Paradise Lost\\n\":\n",
    "            seed = 1\n",
    "        if not seed:\n",
    "            line = clean_line(line)\n",
    "            if line:\n",
    "                # print([line])\n",
    "                # break\n",
    "                book1.append(line)\n",
    "        else:\n",
    "            book2.append(line)\n",
    "\n",
    "book1 = make_token_list(book1)"
   ],
   "metadata": {
    "collapsed": false,
    "pycharm": {
     "name": "#%%\n"
    }
   }
  },
  {
   "cell_type": "code",
   "execution_count": 24,
   "outputs": [],
   "source": [
    "def update_corpus(word, running_corpus=None):\n",
    "    if not running_corpus:\n",
    "        running_corpus = {}\n",
    "    value = running_corpus.get(word)\n",
    "    if not value:\n",
    "        running_corpus[word] = 1\n",
    "    else:\n",
    "        running_corpus[word] += 1\n",
    "    return running_corpus\n",
    "\n",
    "\n",
    "corpus = {}\n",
    "for token in book1:\n",
    "    corpus = update_corpus(token, corpus)\n",
    "\n"
   ],
   "metadata": {
    "collapsed": false,
    "pycharm": {
     "name": "#%%\n"
    }
   }
  },
  {
   "cell_type": "code",
   "execution_count": 25,
   "outputs": [
    {
     "data": {
      "text/plain": "[('the', 64020), ('bible', 2)]"
     },
     "execution_count": 25,
     "metadata": {},
     "output_type": "execute_result"
    }
   ],
   "source": [
    "list(corpus.items())[:2]"
   ],
   "metadata": {
    "collapsed": false,
    "pycharm": {
     "name": "#%%\n"
    }
   }
  },
  {
   "cell_type": "code",
   "execution_count": 26,
   "outputs": [
    {
     "data": {
      "text/plain": "    word  frequency\n0    the      64020\n7    and      51696\n16    of      34667\n77    to      13580\n27  that      12912",
      "text/html": "<div>\n<style scoped>\n    .dataframe tbody tr th:only-of-type {\n        vertical-align: middle;\n    }\n\n    .dataframe tbody tr th {\n        vertical-align: top;\n    }\n\n    .dataframe thead th {\n        text-align: right;\n    }\n</style>\n<table border=\"1\" class=\"dataframe\">\n  <thead>\n    <tr style=\"text-align: right;\">\n      <th></th>\n      <th>word</th>\n      <th>frequency</th>\n    </tr>\n  </thead>\n  <tbody>\n    <tr>\n      <th>0</th>\n      <td>the</td>\n      <td>64020</td>\n    </tr>\n    <tr>\n      <th>7</th>\n      <td>and</td>\n      <td>51696</td>\n    </tr>\n    <tr>\n      <th>16</th>\n      <td>of</td>\n      <td>34667</td>\n    </tr>\n    <tr>\n      <th>77</th>\n      <td>to</td>\n      <td>13580</td>\n    </tr>\n    <tr>\n      <th>27</th>\n      <td>that</td>\n      <td>12912</td>\n    </tr>\n  </tbody>\n</table>\n</div>"
     },
     "execution_count": 26,
     "metadata": {},
     "output_type": "execute_result"
    }
   ],
   "source": [
    "import pandas as pd\n",
    "\n",
    "corpus_series = pd.Series(corpus)\n",
    "frame = {\n",
    "    \"word\": corpus_series.index.values,\n",
    "    \"frequency\": corpus_series.values\n",
    "}\n",
    "corpus_df = pd.DataFrame(frame).sort_values(\"frequency\", ascending=False).iloc[:5000]\n",
    "corpus_df.head()"
   ],
   "metadata": {
    "collapsed": false,
    "pycharm": {
     "name": "#%%\n"
    }
   }
  },
  {
   "cell_type": "code",
   "execution_count": 27,
   "outputs": [],
   "source": [
    "import seaborn as sns"
   ],
   "metadata": {
    "collapsed": false,
    "pycharm": {
     "name": "#%%\n"
    }
   }
  },
  {
   "cell_type": "code",
   "execution_count": 28,
   "outputs": [
    {
     "data": {
      "text/plain": "<AxesSubplot:xlabel='word', ylabel='frequency'>"
     },
     "execution_count": 28,
     "metadata": {},
     "output_type": "execute_result"
    },
    {
     "data": {
      "text/plain": "<Figure size 432x288 with 1 Axes>",
      "image/png": "[encoded data removed]"
     },
     "metadata": {
      "needs_background": "light"
     },
     "output_type": "display_data"
    }
   ],
   "source": [
    "sns.barplot(x=\"word\", y=\"frequency\", data=corpus_df.iloc[:10])"
   ],
   "metadata": {
    "collapsed": false,
    "pycharm": {
     "name": "#%%\n"
    }
   }
  },
  {
   "cell_type": "code",
   "execution_count": 29,
   "outputs": [],
   "source": [
    "corpus_df.to_csv(\"./Files/text_as_tokens_with_freqs.csv\", index=False)"
   ],
   "metadata": {
    "collapsed": false,
    "pycharm": {
     "name": "#%%\n"
    }
   }
  }
 ],
 "metadata": {
  "kernelspec": {
   "display_name": "Python 3",
   "language": "python",
   "name": "python3"
  },
  "language_info": {
   "codemirror_mode": {
    "name": "ipython",
    "version": 3
   },
   "file_extension": ".py",
   "mimetype": "text/x-python",
   "name": "python",
   "nbconvert_exporter": "python",
   "pygments_lexer": "ipython3",
   "version": "3.9.7"
  }
 },
 "nbformat": 4,
 "nbformat_minor": 0
}