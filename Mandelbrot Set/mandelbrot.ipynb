{
 "cells": [
  {
   "cell_type": "code",
   "execution_count": 7,
   "metadata": {
    "collapsed": true
   },
   "outputs": [],
   "source": [
    "def z(n, c):\n",
    "    if n == 0:\n",
    "        return 0\n",
    "    else:\n",
    "        return z(n - 1, c) ** 2 + c"
   ]
  },
  {
   "cell_type": "code",
   "execution_count": 8,
   "outputs": [
    {
     "name": "stdout",
     "output_type": "stream",
     "text": [
      "z(0) = 0\n",
      "z(1) = 1\n",
      "z(2) = 2\n",
      "z(3) = 5\n",
      "z(4) = 26\n",
      "z(5) = 677\n",
      "z(6) = 458330\n",
      "z(7) = 210066388901\n",
      "z(8) = 44127887745906175987802\n",
      "z(9) = 1947270476915296449559703445493848930452791205\n"
     ]
    }
   ],
   "source": [
    "for n in range(10):\n",
    "    print(f\"z({n}) = {z(n, c=1)}\")"
   ],
   "metadata": {
    "collapsed": false,
    "pycharm": {
     "name": "#%%\n"
    }
   }
  },
  {
   "cell_type": "code",
   "execution_count": 9,
   "outputs": [],
   "source": [
    "def sequence(c, z=0):\n",
    "    while True:\n",
    "        yield z\n",
    "        z = z ** 2 + c"
   ],
   "metadata": {
    "collapsed": false,
    "pycharm": {
     "name": "#%%\n"
    }
   }
  },
  {
   "cell_type": "code",
   "execution_count": 10,
   "outputs": [],
   "source": [
    "def mandelbrot(candidate):\n",
    "    return sequence(z=0, c=candidate)\n",
    "\n",
    "\n",
    "def julia(candidate, parameter):\n",
    "    return sequence(z=candidate, c=parameter)"
   ],
   "metadata": {
    "collapsed": false,
    "pycharm": {
     "name": "#%%\n"
    }
   }
  },
  {
   "cell_type": "code",
   "execution_count": 13,
   "outputs": [],
   "source": [
    "import numpy as np\n",
    "\n",
    "np.warnings.filterwarnings(\"ignore\")\n",
    "\n",
    "\n",
    "def complex_matrix(xmin, xmax, ymin, ymax, pixel_density):\n",
    "    re = np.linspace(xmin, xmax, int((xmax - xmin) * pixel_density))\n",
    "    im = np.linspace(ymin, ymax, int((ymax - ymin) * pixel_density))\n",
    "    return re[np.newaxis, :] + im[:, np.newaxis] * 1j"
   ],
   "metadata": {
    "collapsed": false,
    "pycharm": {
     "name": "#%%\n"
    }
   }
  },
  {
   "cell_type": "code",
   "execution_count": 14,
   "outputs": [],
   "source": [
    "def is_stable(c, num_iterations):\n",
    "    z = 0\n",
    "    for _ in range(num_iterations):\n",
    "        z = z ** 2 + c\n",
    "    return abs(z) <= 2"
   ],
   "metadata": {
    "collapsed": false,
    "pycharm": {
     "name": "#%%\n"
    }
   }
  },
  {
   "cell_type": "code",
   "execution_count": 15,
   "outputs": [],
   "source": [
    "def get_members(c, num_iterations):\n",
    "    mask = is_stable(c, num_iterations)\n",
    "    return c[mask]"
   ],
   "metadata": {
    "collapsed": false,
    "pycharm": {
     "name": "#%%\n"
    }
   }
  },
  {
   "cell_type": "code",
   "execution_count": 22,
   "outputs": [
    {
     "data": {
      "text/plain": "<Figure size 432x288 with 1 Axes>",
      "image/png": "[encoded data removed]"
     },
     "metadata": {
      "needs_background": "light"
     },
     "output_type": "display_data"
    }
   ],
   "source": [
    "import matplotlib.pyplot as plt\n",
    "\n",
    "c = complex_matrix(-2.1, 1, -2, 2, pixel_density=512)\n",
    "members = get_members(c, num_iterations=50)\n",
    "\n",
    "plt.scatter(members.real, members.imag, color=\"black\", marker=\",\", s=1)\n",
    "plt.gca().set_aspect(\"equal\")\n",
    "plt.axis(\"off\")\n",
    "plt.tight_layout()\n",
    "plt.show()"
   ],
   "metadata": {
    "collapsed": false,
    "pycharm": {
     "name": "#%%\n"
    }
   }
  },
  {
   "cell_type": "code",
   "execution_count": 24,
   "outputs": [
    {
     "data": {
      "text/plain": "<Figure size 720x432 with 1 Axes>",
      "image/png": "[encoded data removed]"
     },
     "metadata": {
      "needs_background": "light"
     },
     "output_type": "display_data"
    }
   ],
   "source": [
    "c = complex_matrix(-2, 0.5, -1.5, 1.5, pixel_density=512)\n",
    "plt.figure(figsize=(10, 6))\n",
    "plt.imshow(is_stable(c, num_iterations=20), cmap=\"jet\")\n",
    "plt.gca().set_aspect(\"equal\")\n",
    "plt.axis(\"off\")\n",
    "plt.tight_layout()\n",
    "plt.show()"
   ],
   "metadata": {
    "collapsed": false,
    "pycharm": {
     "name": "#%%\n"
    }
   }
  },
  {
   "cell_type": "code",
   "execution_count": 27,
   "outputs": [],
   "source": [
    "from PIL import Image\n",
    "\n",
    "c = complex_matrix(-2, 0.5, -1.5, 1.5, pixel_density=2048)\n",
    "image = Image.fromarray(~is_stable(c, num_iterations=20))\n",
    "image.show()"
   ],
   "metadata": {
    "collapsed": false,
    "pycharm": {
     "name": "#%%\n"
    }
   }
  },
  {
   "cell_type": "code",
   "execution_count": 40,
   "outputs": [],
   "source": [
    "from dataclasses import dataclass\n",
    "from math import log\n",
    "\n",
    "\n",
    "@dataclass\n",
    "class MandelbrotSet:\n",
    "    max_iterations: int\n",
    "    escape_radius: float = 2.0\n",
    "\n",
    "    def __contains__(self, c: complex) -> bool:\n",
    "        return self.stability(c) == 1\n",
    "\n",
    "    def stability(self, c: complex, smooth=False, clamp=True) -> float:\n",
    "        value = self.escape_count(c, smooth) / self.max_iterations\n",
    "        return max(0.0, min(value, 1.0)) if clamp else value\n",
    "\n",
    "    def escape_count(self, c: complex, smooth=False) -> float:\n",
    "        z = 0\n",
    "        for iteration in range(self.max_iterations):\n",
    "            z = z ** 2 + c\n",
    "            if abs(z) > self.escape_radius:\n",
    "                if smooth:\n",
    "                    return iteration + 1 - log(log(abs(z))) / log(2)\n",
    "                return iteration\n",
    "        return self.max_iterations"
   ],
   "metadata": {
    "collapsed": false,
    "pycharm": {
     "name": "#%%\n"
    }
   }
  },
  {
   "cell_type": "code",
   "execution_count": 42,
   "outputs": [],
   "source": [
    "mandelbrot_set = MandelbrotSet(max_iterations=20, escape_radius=1000)\n",
    "width, height = 512, 512\n",
    "scale = 0.0075\n",
    "GRAYSCALE = \"L\"\n",
    "\n",
    "image = Image.new(mode=GRAYSCALE, size=(width, height))\n",
    "for y in range(height):\n",
    "    for x in range(width):\n",
    "        c = scale * complex(x - width / 2, height / 2 - y)\n",
    "        instability = 1 - mandelbrot_set.stability(c, smooth=True)\n",
    "        image.putpixel((x, y), int(instability * 255))\n",
    "\n",
    "image.show()"
   ],
   "metadata": {
    "collapsed": false,
    "pycharm": {
     "name": "#%%\n"
    }
   }
  },
  {
   "cell_type": "code",
   "execution_count": 45,
   "outputs": [],
   "source": [
    "@dataclass\n",
    "class Viewport:\n",
    "    image: Image.Image\n",
    "    center: complex\n",
    "    width: float\n",
    "\n",
    "    @property\n",
    "    def height(self):\n",
    "        return self.scale * self.image.height\n",
    "\n",
    "    @property\n",
    "    def offset(self):\n",
    "        return self.center + complex(-self.width, self.height) / 2\n",
    "\n",
    "    @property\n",
    "    def scale(self):\n",
    "        return self.width / self.image.width\n",
    "\n",
    "    def __iter__(self):\n",
    "        for y in range(self.image.height):\n",
    "            for x in range(self.image.width):\n",
    "                yield Pixel(self, x, y)\n",
    "\n",
    "\n",
    "@dataclass\n",
    "class Pixel:\n",
    "    viewport: Viewport\n",
    "    x: int\n",
    "    y: int\n",
    "\n",
    "    @property\n",
    "    def color(self):\n",
    "        return self.viewport.image.getpixel((self.x, self.y))\n",
    "\n",
    "    @color.setter\n",
    "    def color(self, value):\n",
    "        self.viewport.image.putpixel((self.x, self.y), value)\n",
    "\n",
    "    def __complex__(self):\n",
    "        return (\n",
    "                complex(self.x, -self.y)\n",
    "                * self.viewport.scale\n",
    "                + self.viewport.offset\n",
    "        )"
   ],
   "metadata": {
    "collapsed": false,
    "pycharm": {
     "name": "#%%\n"
    }
   }
  },
  {
   "cell_type": "code",
   "execution_count": 46,
   "outputs": [],
   "source": [
    "image = Image.new(mode=\"1\", size=(512, 512), color=1)\n",
    "for pixel in Viewport(image, center=-0.75, width=3.5):\n",
    "    if complex(pixel) in mandelbrot_set:\n",
    "        pixel.color = 0\n",
    "\n",
    "image.show()"
   ],
   "metadata": {
    "collapsed": false,
    "pycharm": {
     "name": "#%%\n"
    }
   }
  },
  {
   "cell_type": "code",
   "execution_count": 49,
   "outputs": [],
   "source": [
    "mandelbrot_set = MandelbrotSet(max_iterations=256, escape_radius=1000)\n",
    "\n",
    "image = Image.new(mode=\"L\", size=(1024, 1024))\n",
    "for pixel in Viewport(image, center=-0.7435 + 0.1314j, width=0.002):\n",
    "    c = complex(pixel)\n",
    "    instability = 1 - mandelbrot_set.stability(c, smooth=True)\n",
    "    pixel.color = int(instability * 255)\n",
    "\n",
    "from PIL import ImageEnhance\n",
    "\n",
    "enhancer = ImageEnhance.Brightness(image)\n",
    "enhancer.enhance(1.25).show()"
   ],
   "metadata": {
    "collapsed": false,
    "pycharm": {
     "name": "#%%\n"
    }
   }
  },
  {
   "cell_type": "code",
   "execution_count": 50,
   "outputs": [],
   "source": [
    "def paint(mandelbrot_set, viewport, palette, smooth):\n",
    "    for pixel in viewport:\n",
    "        stability = mandelbrot_set.stability(complex(pixel), smooth)\n",
    "        index = int(min(stability * len(palette), len(palette) - 1))\n",
    "        pixel.color = palette[index % len(palette)]"
   ],
   "metadata": {
    "collapsed": false,
    "pycharm": {
     "name": "#%%\n"
    }
   }
  },
  {
   "cell_type": "code",
   "execution_count": 51,
   "outputs": [],
   "source": [
    "def denormalize(palette):\n",
    "    return [\n",
    "        tuple(int(channel * 255) for channel in color)\n",
    "        for color in palette\n",
    "    ]"
   ],
   "metadata": {
    "collapsed": false,
    "pycharm": {
     "name": "#%%\n"
    }
   }
  },
  {
   "cell_type": "code",
   "execution_count": 53,
   "outputs": [],
   "source": [
    "import matplotlib.cm\n",
    "\n",
    "colormap = matplotlib.cm.get_cmap(\"twilight\").colors\n",
    "palette = denormalize(colormap)"
   ],
   "metadata": {
    "collapsed": false,
    "pycharm": {
     "name": "#%%\n"
    }
   }
  },
  {
   "cell_type": "code",
   "execution_count": 55,
   "outputs": [],
   "source": [
    "mandelbrot_set = MandelbrotSet(max_iterations=128, escape_radius=1000)\n",
    "image = Image.new(mode=\"RGB\", size=(1024, 1024))\n",
    "viewport = Viewport(image, center=-0.7435 + 0.1314j, width=0.002)\n",
    "paint(mandelbrot_set, viewport, palette, smooth=True)\n",
    "image.show()"
   ],
   "metadata": {
    "collapsed": false,
    "pycharm": {
     "name": "#%%\n"
    }
   }
  },
  {
   "cell_type": "code",
   "execution_count": 56,
   "outputs": [],
   "source": [
    "exterior = [(1, 1, 1)] * 50\n",
    "interior = [(1, 1, 1)] * 5\n",
    "gray_area = [(1 - i / 44,) * 3 for i in range(45)]\n",
    "palette = denormalize(exterior + gray_area + interior)"
   ],
   "metadata": {
    "collapsed": false,
    "pycharm": {
     "name": "#%%\n"
    }
   }
  },
  {
   "cell_type": "code",
   "execution_count": 57,
   "outputs": [],
   "source": [
    "mandelbrot_set = MandelbrotSet(max_iterations=20, escape_radius=1000)\n",
    "viewport = Viewport(image, center=-0.75, width=3.5)\n",
    "paint(mandelbrot_set, viewport, palette, smooth=True)\n",
    "image.show()"
   ],
   "metadata": {
    "collapsed": false,
    "pycharm": {
     "name": "#%%\n"
    }
   }
  },
  {
   "cell_type": "code",
   "execution_count": 58,
   "outputs": [],
   "source": [
    "from scipy.interpolate import interp1d\n",
    "\n",
    "\n",
    "def make_gradient(colors, interpolation=\"linear\"):\n",
    "    X = [i / (len(colors) - 1) for i in range(len(colors))]\n",
    "    Y = [[color[i] for color in colors] for i in range(3)]\n",
    "    channels = [interp1d(X, y, kind=interpolation) for y in Y]\n",
    "    return lambda x: [np.clip(channel(x), 0, 1) for channel in channels]"
   ],
   "metadata": {
    "collapsed": false,
    "pycharm": {
     "name": "#%%\n"
    }
   }
  },
  {
   "cell_type": "code",
   "execution_count": 59,
   "outputs": [
    {
     "data": {
      "text/plain": "[0.026749999999999954, 0.0, 0.9435000000000001]"
     },
     "execution_count": 59,
     "metadata": {},
     "output_type": "execute_result"
    }
   ],
   "source": [
    "black = (0, 0, 0)\n",
    "blue = (0, 0, 1)\n",
    "maroon = (0.5, 0, 0)\n",
    "navy = (0, 0, 0.5)\n",
    "red = (1, 0, 0)\n",
    "\n",
    "colors = [black, navy, blue, maroon, red, black]\n",
    "gradient = make_gradient(colors, interpolation=\"cubic\")\n",
    "\n",
    "gradient(0.42)"
   ],
   "metadata": {
    "collapsed": false,
    "pycharm": {
     "name": "#%%\n"
    }
   }
  },
  {
   "cell_type": "code",
   "execution_count": 60,
   "outputs": [
    {
     "data": {
      "text/plain": "(46, 0, 143)"
     },
     "execution_count": 60,
     "metadata": {},
     "output_type": "execute_result"
    }
   ],
   "source": [
    "num_colors = 256\n",
    "palette = denormalize([\n",
    "    gradient(i / num_colors) for i in range(num_colors)\n",
    "])\n",
    "\n",
    "len(palette)\n",
    "256\n",
    "palette[127]\n",
    "(46, 0, 143)"
   ],
   "metadata": {
    "collapsed": false,
    "pycharm": {
     "name": "#%%\n"
    }
   }
  },
  {
   "cell_type": "code",
   "execution_count": 62,
   "outputs": [],
   "source": [
    "mandelbrot_set = MandelbrotSet(max_iterations=20, escape_radius=1000)\n",
    "paint(mandelbrot_set, viewport, palette, smooth=True)\n",
    "image.show()"
   ],
   "metadata": {
    "collapsed": false,
    "pycharm": {
     "name": "#%%\n"
    }
   }
  },
  {
   "cell_type": "code",
   "execution_count": 63,
   "outputs": [
    {
     "data": {
      "text/plain": "(255, 64, 64)"
     },
     "execution_count": 63,
     "metadata": {},
     "output_type": "execute_result"
    }
   ],
   "source": [
    "from PIL.ImageColor import getrgb\n",
    "\n",
    "\n",
    "def hsb(hue_degrees: int, saturation: float, brightness: float):\n",
    "    return getrgb(\n",
    "        f\"hsv({hue_degrees % 360},\"\n",
    "        f\"{saturation * 100}%,\"\n",
    "        f\"{brightness * 100}%)\"\n",
    "    )\n",
    "\n",
    "\n",
    "hsb(360, 0.75, 1)"
   ],
   "metadata": {
    "collapsed": false,
    "pycharm": {
     "name": "#%%\n"
    }
   }
  },
  {
   "cell_type": "code",
   "execution_count": 65,
   "outputs": [],
   "source": [
    "mandelbrot_set = MandelbrotSet(max_iterations=20, escape_radius=1000)\n",
    "for pixel in Viewport(image, center=-0.75, width=3.5):\n",
    "    stability = mandelbrot_set.stability(complex(pixel), smooth=True)\n",
    "    pixel.color = (0, 0, 0) if stability == 1 else hsb(\n",
    "        hue_degrees=int(stability * 360),\n",
    "        saturation=stability,\n",
    "        brightness=1,\n",
    "    )\n",
    "\n",
    "image.show()"
   ],
   "metadata": {
    "collapsed": false,
    "pycharm": {
     "name": "#%%\n"
    }
   }
  }
 ],
 "metadata": {
  "kernelspec": {
   "display_name": "Python 3",
   "language": "python",
   "name": "python3"
  },
  "language_info": {
   "codemirror_mode": {
    "name": "ipython",
    "version": 2
   },
   "file_extension": ".py",
   "mimetype": "text/x-python",
   "name": "python",
   "nbconvert_exporter": "python",
   "pygments_lexer": "ipython2",
   "version": "2.7.6"
  }
 },
 "nbformat": 4,
 "nbformat_minor": 0
}